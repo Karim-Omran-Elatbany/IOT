{
 "cells": [
  {
   "cell_type": "markdown",
   "id": "3d5de576-6202-4c20-a40d-1e0e8a4a6c0d",
   "metadata": {},
   "source": [
    "## Sending Data to Firebase"
   ]
  },
  {
   "cell_type": "markdown",
   "id": "8b44c9b5-0267-4199-b718-488d1ad199eb",
   "metadata": {},
   "source": [
    "#### Import Libraries"
   ]
  },
  {
   "cell_type": "code",
   "execution_count": null,
   "id": "0dc32748",
   "metadata": {},
   "outputs": [],
   "source": [
    "import firebase_admin\n",
    "import paho.mqtt.client as mqtt\n",
    "import paho.mqtt.client as mqtt\n",
    "from firebase_admin import credentials  \n",
    "from firebase_admin import db\n",
    "\n",
    "from datetime import datetime\n",
    "import plotly.graph_objects as go"
   ]
  },
  {
   "cell_type": "markdown",
   "id": "c7d35448-2c5d-4c1a-ad53-6cdbd8ccd202",
   "metadata": {},
   "source": [
    "#### Initialize Firebase Admin SDK"
   ]
  },
  {
   "cell_type": "code",
   "execution_count": null,
   "id": "c89aee41-0be8-4686-9766-a6521d4977c2",
   "metadata": {},
   "outputs": [],
   "source": [
    "cred = credentials.Certificate(\"D:/Projects/Project 4/IOT/Project/smart-home-69c35-firebase-adminsdk-71ryr-997205ee4f.json\")\n",
    "firebase_admin.initialize_app(cred, {'databaseURL': 'https://smart-home-69c35-default-rtdb.firebaseio.com/'})"
   ]
  },
  {
   "cell_type": "code",
   "execution_count": null,
   "id": "78a39dae-ffee-4b2b-92eb-5b00f99472d6",
   "metadata": {},
   "outputs": [],
   "source": [
    "ref = db.reference('/')"
   ]
  },
  {
   "cell_type": "code",
   "execution_count": null,
   "id": "399705c8-6fd1-401a-9ba3-14eb69c8c885",
   "metadata": {},
   "outputs": [],
   "source": [
    "# MQTT broker address\n",
    "broker_address = \"192.168.137.1\"\n",
    "\n",
    "# MQTT broker port\n",
    "port = 1883\n",
    "global payload\n",
    "payload = None  # Initialize payload\n",
    "fan_topic=\"fan_state\"\n",
    "gas_topic=\"gas\"\n",
    "buzz_topic=\"buzz\"\n",
    "topic = \"temp_sens\"\n",
    "# Quality of Service (QoS)\n",
    "qos = 0\n",
    "temperature = []\n",
    "gas=[]\n",
    "buzz=[]\n",
    "\n",
    "def on_message(client, userdata, message):\n",
    "    global temperature\n",
    "    global gas\n",
    "    global buzz\n",
    "    topic = message.topic\n",
    "    payload = message.payload.decode()\n",
    "    print(topic + \": \" + payload)\n",
    "    if topic == \"temp_sens\":\n",
    "            temperature = payload\n",
    "            print(\"New fire message:\", temperature)\n",
    "            send_temp_to_firebase(temperature)\n",
    "    if topic == \"gas\":\n",
    "        gas = payload\n",
    "        print(gas)\n",
    "        send_gas_to_firebase(gas) \n",
    "    if topic == \"buzz\":\n",
    "           buzz=payload\n",
    "           print(buzz)\n",
    "\n",
    "def send_temp_to_firebase(sensor_data):\n",
    "    time = datetime.now().strftime(\"%Y-%m-%d %H:%M:%S\")\n",
    "    ref.child('room/temp_sensor').push({'timestamp': time, 'temp': sensor_data})\n",
    "    print(\"Sensor data sent to Firebase:\", sensor_data)\n",
    "\n",
    "def send_gas_to_firebase(sensor_data):\n",
    "    time = datetime.now().strftime(\"%Y-%m-%d %H:%M:%S\")\n",
    "    ref.child('room/gas_sensor').push({'timestamp': time, 'gas': sensor_data})\n",
    "    print(\"Sensor data sent to Firebase:\", sensor_data)\n",
    "# Create an MQTT client instance\n",
    "client = mqtt.Client(\"kolorayh\")\n",
    "\n",
    "# Set the callback function for incoming messages\n",
    "client.on_message = on_message\n",
    "\n",
    "\n",
    "# Connect to the MQTT broker\n",
    "client.connect(broker_address, port)\n",
    "\n",
    "# Subscribe to the specified topics\n",
    "client.subscribe(\"temp_sens\", qos)\n",
    "client.subscribe(\"gas\", qos)\n",
    "client.subscribe(\"buzz\", qos)\n",
    "\n",
    "\n",
    "# Start the MQTT client loop to receive messages\n",
    "client.loop_start()"
   ]
  },
  {
   "cell_type": "markdown",
   "id": "e1f5de39-eaad-4835-a102-6f759dc0e7b5",
   "metadata": {},
   "source": [
    "#### Get the Data from `temp_sensor` Node"
   ]
  },
  {
   "cell_type": "code",
   "execution_count": null,
   "id": "99b63e44-6195-4153-b7b8-1c04e39c65f9",
   "metadata": {},
   "outputs": [],
   "source": [
    "def get_temp_values():\n",
    "    temp_sensor = ref.child('room/temp_sensor').get()\n",
    "\n",
    "    timestamp = []\n",
    "    temp = []\n",
    "    \n",
    "    for key, val in temp_sensor.items():\n",
    "        temp.append(val['temp'])\n",
    "        timestamp.append(val['timestamp'])\n",
    "\n",
    "    return timestamp, temp\n",
    "def get_gas_values():\n",
    "    gas_sensor = ref.child('room/gas_sensor').get()\n",
    "\n",
    "    timestamp = []\n",
    "    gas = []\n",
    "    \n",
    "    for key, val in gas_sensor.items():\n",
    "        gas.append(val['gas'])\n",
    "        timestamp.append(val['timestamp'])\n",
    "\n",
    "    return timestamp, gas\n"
   ]
  },
  {
   "cell_type": "code",
   "execution_count": null,
   "id": "a8136240",
   "metadata": {},
   "outputs": [],
   "source": [
    "def get_temp_values():\n",
    "    temp_sensor = ref.child('room/temp_sensor').get()\n",
    "    \n",
    "    if temp_sensor is None:\n",
    "        raise ValueError(\"temp_sensor cannot be None\")\n",
    "\n",
    "    print(\"Retrieved temp_sensor data:\", temp_sensor)  # Log the retrieved data\n",
    "\n",
    "    timestamp = []\n",
    "    temp = []\n",
    "\n",
    "    for key, val in temp_sensor.items():\n",
    "        if isinstance(val, dict) and 'temp' in val and 'timestamp' in val:\n",
    "            temp.append(val['temp'])\n",
    "            timestamp.append(val['timestamp'])\n",
    "        else:\n",
    "            print(f\"Unexpected value for key {key}: {val}\")  # Debugging output\n",
    "\n",
    "    return timestamp, temp\n",
    "\n",
    "# Example usage (assuming ref is properly initialized and pointing to the correct database reference)\n",
    "\n",
    "timestamp, temp = get_temp_values()\n",
    "\n",
    "\n"
   ]
  },
  {
   "cell_type": "code",
   "execution_count": null,
   "id": "17bceeba",
   "metadata": {},
   "outputs": [],
   "source": [
    "def get_gas_values():\n",
    "    gas_sensor = ref.child('room/gas_sensor').get()\n",
    "\n",
    "    if gas_sensor is None:\n",
    "        raise ValueError(\"gas_sensor cannot be None\")\n",
    "\n",
    "    print(\"Retrieved gas_sensor data:\", gas_sensor)  # Log the retrieved data\n",
    "\n",
    "    timestamp = []\n",
    "    gas = []\n",
    "\n",
    "    for key, val in gas_sensor.items():\n",
    "        if isinstance(val, dict) and 'gas' in val and 'timestamp' in val:\n",
    "            gas.append(val['gas'])\n",
    "            timestamp.append(val['timestamp'])\n",
    "        else:\n",
    "            print(f\"Unexpected value for key {key}: {val}\")  # Debugging output\n",
    "\n",
    "    return timestamp, gas\n",
    "\n",
    "# Example usage (assuming ref is properly initialized and pointing to the correct database reference)\n",
    "timestamp, gas = get_gas_values()\n",
    "\n"
   ]
  },
  {
   "cell_type": "markdown",
   "id": "f9cc6b07-b1f9-40ca-952d-5f1de8a2a5e3",
   "metadata": {},
   "source": [
    "#### Visualizing Data"
   ]
  },
  {
   "cell_type": "code",
   "execution_count": null,
   "id": "4d4dfe9a-07d4-4f68-b476-b976c2015a07",
   "metadata": {},
   "outputs": [],
   "source": [
    "def viz_temp(timestamp, temp):\n",
    "    data = go.Scatter(x=timestamp, y=temp)\n",
    "    fig = go.Figure(data=data)\n",
    "\n",
    "    fig.layout.title = 'Temprature Over Day'\n",
    "    fig.layout.xaxis.title = 'Timestamp'\n",
    "    fig.layout.yaxis.title = 'Temprature'\n",
    "\n",
    "    return fig"
   ]
  },
  {
   "cell_type": "code",
   "execution_count": null,
   "id": "76c25e21-36de-4b77-9bee-efd2b1a5c953",
   "metadata": {},
   "outputs": [],
   "source": [
    "def viz_gas(timestamp, gas):\n",
    "    data = go.Scatter(x=timestamp, y=gas)\n",
    "    fig = go.Figure(data=data)\n",
    "\n",
    "    fig.layout.title = 'Temprature Over Day'\n",
    "    fig.layout.xaxis.title = 'Timestamp'\n",
    "    fig.layout.yaxis.title = 'Gas Value'\n",
    "\n",
    "    return fig"
   ]
  },
  {
   "cell_type": "markdown",
   "id": "36b70ecf-ef82-40ba-ba67-73282eda13cb",
   "metadata": {},
   "source": [
    "#### Simple Dashboard Using Plotly and Flask"
   ]
  },
  {
   "cell_type": "code",
   "execution_count": null,
   "id": "6c5d4685-47a4-4823-9d3a-d45bf5412775",
   "metadata": {},
   "outputs": [],
   "source": [
    "import warnings\n",
    "warnings.filterwarnings('ignore')"
   ]
  },
  {
   "cell_type": "code",
   "execution_count": null,
   "id": "6080152f-eefd-4caf-a8c1-a87c7746abc1",
   "metadata": {},
   "outputs": [],
   "source": [
    "# Import necessary modules from Flask\n",
    "from flask import Flask, render_template, request, jsonify \n",
    "\n",
    "# Create a Flask application object\n",
    "app = Flask(__name__)\n",
    "nowtemp= temp[-1]\n",
    "nowgas = gas[-1]\n",
    "# Define a route for the root URL ('/')\n",
    "@app.route('/')\n",
    "def index():\n",
    "    # Get timestamp and temperature values\n",
    "    timestamp, temp = get_temp_values()\n",
    "    timestamp, gas= get_gas_values()\n",
    "    \n",
    "    # Visualize temperature data and get a Plotly figure\n",
    "    fig = viz_temp(timestamp, temp)\n",
    "    fig2 = viz_gas(timestamp, gas)\n",
    "    # Convert the Plotly figure to JSON format\n",
    "    fig_json = fig.to_json()\n",
    "    fig2_json=fig2.to_json()\n",
    "\n",
    "    # Render the HTML template 'index.html', passing the Plotly figure JSON data\n",
    "    return render_template('kolorayh.html', fig_json=fig_json,nowtemp=nowtemp,fig2_json=fig2_json,nowgas=nowgas)\n",
    "@app.route('/toggle', methods=['POST'])\n",
    "def toggle():\n",
    "    data = request.json\n",
    "    if 'state' in data:\n",
    "        if data['state']:\n",
    "            print(\"Button turned ON\")\n",
    "            client.publish(fan_topic, \"on\", qos)\n",
    "            client.loop_start()\n",
    "        else:\n",
    "            print(\"Button turned OFF\")\n",
    "            client.publish(fan_topic, \"off\", qos)\n",
    "            client.loop_start()\n",
    "    return 'OK'\n",
    "# Check if the script is being run directly\n",
    "if __name__ == '__main__':\n",
    "    # Start the Flask server\n",
    "    app.run()"
   ]
  },
  {
   "cell_type": "code",
   "execution_count": null,
   "id": "8c4b0d05-9657-4d8e-b595-9b7477f53c7b",
   "metadata": {},
   "outputs": [],
   "source": []
  },
  {
   "cell_type": "code",
   "execution_count": null,
   "id": "6c324df7-88e3-4dab-a933-01c4ee15dd68",
   "metadata": {},
   "outputs": [],
   "source": []
  }
 ],
 "metadata": {
  "kernelspec": {
   "display_name": "Python 3 (ipykernel)",
   "language": "python",
   "name": "python3"
  },
  "language_info": {
   "codemirror_mode": {
    "name": "ipython",
    "version": 3
   },
   "file_extension": ".py",
   "mimetype": "text/x-python",
   "name": "python",
   "nbconvert_exporter": "python",
   "pygments_lexer": "ipython3",
   "version": "3.11.9"
  }
 },
 "nbformat": 4,
 "nbformat_minor": 5
}
